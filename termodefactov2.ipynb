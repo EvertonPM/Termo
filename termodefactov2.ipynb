{
 "cells": [
  {
   "cell_type": "code",
   "execution_count": 1,
   "id": "e9853d71-7ad0-4999-b649-bb56357dd58b",
   "metadata": {},
   "outputs": [],
   "source": [
    "import pandas as pd"
   ]
  },
  {
   "cell_type": "code",
   "execution_count": 2,
   "id": "92f7af82-220c-416d-907d-2f25a8902059",
   "metadata": {},
   "outputs": [],
   "source": [
    "df = pd.read_csv('termo.csv')"
   ]
  },
  {
   "cell_type": "code",
   "execution_count": 3,
   "id": "50a272a5-bfea-4666-9e5e-d1bb0bfb31f1",
   "metadata": {},
   "outputs": [],
   "source": [
    "lista = df[\"TERMO\"].tolist()"
   ]
  },
  {
   "cell_type": "code",
   "execution_count": 4,
   "id": "f70144e9-eb84-4455-9c1d-7ebdd6c6f3fa",
   "metadata": {},
   "outputs": [],
   "source": [
    "chute = \"REFIL\""
   ]
  },
  {
   "cell_type": "code",
   "execution_count": 5,
   "id": "3cfedbb3-a20b-4327-900f-6d75c026a8c2",
   "metadata": {},
   "outputs": [],
   "source": [
    "resultado = \"re*i*\""
   ]
  },
  {
   "cell_type": "code",
   "execution_count": 6,
   "id": "0e929af1-f67f-41ce-abda-e63c2332ff53",
   "metadata": {},
   "outputs": [],
   "source": [
    "palavras_possiveis = lista.copy()  # Começamos com a lista inicial\n",
    "opcao = []\n",
    "#Loop para verificar cada posição na palavra resultado\n",
    "\n",
    "erros = []\n",
    "for i in range(5):\n",
    "    if '*' == resultado[i]:\n",
    "        erros.append(chute[i])\n",
    "        \n",
    "# Extrair letras de resultado que estão em erros, considerando maiúsculas e minúsculas\n",
    "letras_erro_no_resultado = [letra.lower() for letra in resultado if letra.upper() in erros] \n",
    "\n",
    "\n",
    "letras_erro_no_resultado = set(letras_erro_no_resultado)  # Usar um conjunto para acelerar as buscas"
   ]
  },
  {
   "cell_type": "code",
   "execution_count": 7,
   "id": "957f72de-cb8e-42db-a316-bd824d7ef733",
   "metadata": {},
   "outputs": [
    {
     "name": "stdout",
     "output_type": "stream",
     "text": [
      "6498\n",
      "0\n",
      "['F', 'L']\n",
      "set()\n"
     ]
    }
   ],
   "source": [
    "print(len(palavras_possiveis))\n",
    "print(len(opcao))\n",
    "#print(opcao)\n",
    "print(erros)\n",
    "print(letras_erro_no_resultado)"
   ]
  },
  {
   "cell_type": "code",
   "execution_count": null,
   "id": "c9e43c87-b3f3-44e3-b1db-e098890a9dec",
   "metadata": {},
   "outputs": [],
   "source": []
  },
  {
   "cell_type": "code",
   "execution_count": null,
   "id": "1b1e1142-51f9-495c-9aab-dedef36e7273",
   "metadata": {},
   "outputs": [],
   "source": [
    "for palavra in opcao:\n",
    "    conta_letras = 0\n",
    "    palavra_lower = palavra.lower()\n",
    "    \n",
    "    # Verificar cada letra na lista `letras_erro_no_resultado`\n",
    "    for letra in letras_erro_no_resultado:\n",
    "        # Se encontrarmos mais de uma ocorrência de qualquer letra, paramos a contagem\n",
    "        if palavra_lower.count(letra) > 1:\n",
    "            conta_letras = 2  # Define como 2 para ignorar a palavra\n",
    "            break\n",
    "    \n",
    "    # Manter palavras que possuem no máximo uma ocorrência das letras\n",
    "    if conta_letras <= 1:\n",
    "        opcao.append(palavra)"
   ]
  },
  {
   "cell_type": "code",
   "execution_count": null,
   "id": "2f8ebc8e-d36e-4576-90bf-661be51ae2b1",
   "metadata": {},
   "outputs": [],
   "source": [
    "print(len(palavras_possiveis))\n",
    "print(len(opcao))"
   ]
  },
  {
   "cell_type": "code",
   "execution_count": null,
   "id": "40a54536-65fd-4615-ba71-3ceda828d7f9",
   "metadata": {},
   "outputs": [],
   "source": [
    "duplos = []\n",
    "\n",
    "for i in letras_erro_no_resultado:\n",
    "    letra = i.upper()\n",
    "    duplos.append(letra)\n",
    "    \n",
    "#********************************************************************************************\n",
    "# Loop para cada posição e letra no resultado\n",
    "for i in range(5):\n",
    "    letra_resultado = resultado[i]\n",
    "\n",
    "    if letra_resultado.islower():  # Verifica se é uma letra minúscula\n",
    "        letra_maiuscula = letra_resultado.upper()  # Converte para maiúscula\n",
    "        \n",
    "        # Filtra as palavras para garantir que contêm a letra correspondente em maiúscula\n",
    "        opcao = [\n",
    "            palavra for palavra in opcao \n",
    "            if letra_maiuscula in palavra and palavra[i] != letra_maiuscula\n",
    "        ]\n",
    "\n",
    "        # Filtra para garantir que a letra não está nas posições das letras minúsculas ou em letras maiúsculas\n",
    "        opcao = [\n",
    "            palavra for palavra in opcao \n",
    "            if all(palavra[j] != letra_maiuscula for j in range(5) if resultado[j].isupper())\n",
    "        ]\n"
   ]
  },
  {
   "cell_type": "code",
   "execution_count": null,
   "id": "f23c32e3-ec09-45cd-ab5a-1f605f7941e8",
   "metadata": {},
   "outputs": [],
   "source": [
    "print(duplos)\n",
    "print(len(opcao))"
   ]
  },
  {
   "cell_type": "code",
   "execution_count": null,
   "id": "594dba87-76af-492a-affe-f98f2dd714c9",
   "metadata": {},
   "outputs": [],
   "source": [
    "# Filtro onde há letras maiúsculas no resultado\n",
    "for i in range(5):\n",
    "    letra_resultado = resultado[i]\n",
    "\n",
    "    if letra_resultado.isupper():  # Verifica se é uma letra maiúscula\n",
    "        # Remove palavras que não têm a letra maiúscula na mesma posição\n",
    "        opcao = [\n",
    "            palavra for palavra in opcao \n",
    "            if palavra[i] == letra_resultado\n",
    "        ]\n"
   ]
  },
  {
   "cell_type": "code",
   "execution_count": null,
   "id": "0cde168a-144c-44b3-a7dc-c1831a0c3895",
   "metadata": {},
   "outputs": [],
   "source": [
    "print(len(opcao))"
   ]
  },
  {
   "cell_type": "code",
   "execution_count": null,
   "id": "d9f6f351-5ddd-4e29-a5c7-ea759b40dddc",
   "metadata": {},
   "outputs": [],
   "source": [
    "# Filtrando itens que estão em `erros` mas não estão em `duplos`\n",
    "apagar = [item for item in erros if item not in duplos]\n",
    "\n",
    "\n",
    "\n",
    "# Remove palavras que contêm qualquer letra da lista erros\n",
    "opcao = [\n",
    "    palavra for palavra in opcao \n",
    "    if not any(letra in palavra for letra in apagar)\n",
    "]\n"
   ]
  },
  {
   "cell_type": "code",
   "execution_count": null,
   "id": "69b2d89f-6792-472c-bd9e-e0a407019b82",
   "metadata": {},
   "outputs": [],
   "source": [
    "print(len(opcao))"
   ]
  },
  {
   "cell_type": "code",
   "execution_count": null,
   "id": "424661a9-ac19-4c82-b5d9-bf9a09fa7e93",
   "metadata": {},
   "outputs": [],
   "source": [
    "opcao"
   ]
  },
  {
   "cell_type": "code",
   "execution_count": null,
   "id": "733938dd-ed14-4272-89dd-b1804612f221",
   "metadata": {},
   "outputs": [],
   "source": [
    "palavras_possiveis = lista.copy()  # Começamos com a lista inicial\n",
    "opcao = []\n",
    "#Loop para verificar cada posição na palavra resultado\n",
    "\n",
    "erros = []\n",
    "for i in range(5):\n",
    "    if '*' == resultado[i]:\n",
    "        erros.append(chute[i])\n",
    "        \n",
    "# Extrair letras de resultado que estão em erros, considerando maiúsculas e minúsculas\n",
    "letras_erro_no_resultado = [letra.lower() for letra in resultado if letra.upper() in erros] \n",
    "\n",
    "\n",
    "letras_erro_no_resultado = set(letras_erro_no_resultado)  # Usar um conjunto para acelerar as buscas\n",
    "\n",
    "for palavra in palavras_possiveis:\n",
    "    conta_letras = 0\n",
    "    palavra_lower = palavra.lower()\n",
    "    \n",
    "    # Verificar cada letra na lista `letras_erro_no_resultado`\n",
    "    for letra in letras_erro_no_resultado:\n",
    "        # Se encontrarmos mais de uma ocorrência de qualquer letra, paramos a contagem\n",
    "        if palavra_lower.count(letra) > 1:\n",
    "            conta_letras = 2  # Define como 2 para ignorar a palavra\n",
    "            break\n",
    "    \n",
    "    # Manter palavras que possuem no máximo uma ocorrência das letras\n",
    "    if conta_letras <= 1:\n",
    "        opcao.append(palavra)\n",
    "        \n",
    "duplos = []\n",
    "\n",
    "for i in letras_erro_no_resultado:\n",
    "    letra = i.upper()\n",
    "    duplos.append(letra)\n",
    "    \n",
    "#********************************************************************************************\n",
    "# Loop para cada posição e letra no resultado\n",
    "for i in range(5):\n",
    "    letra_resultado = resultado[i]\n",
    "\n",
    "    if letra_resultado.islower():  # Verifica se é uma letra minúscula\n",
    "        letra_maiuscula = letra_resultado.upper()  # Converte para maiúscula\n",
    "        \n",
    "        # Filtra as palavras para garantir que contêm a letra correspondente em maiúscula\n",
    "        opcao = [\n",
    "            palavra for palavra in opcao \n",
    "            if letra_maiuscula in palavra and palavra[i] != letra_maiuscula\n",
    "        ]\n",
    "\n",
    "        # Filtra para garantir que a letra não está nas posições das letras minúsculas ou em letras maiúsculas\n",
    "        opcao = [\n",
    "            palavra for palavra in opcao \n",
    "            if all(palavra[j] != letra_maiuscula for j in range(5) if resultado[j].isupper())\n",
    "        ]\n",
    "\n",
    "#********************************************************************************************\n",
    "\n",
    "# Filtro onde há letras maiúsculas no resultado\n",
    "for i in range(5):\n",
    "    letra_resultado = resultado[i]\n",
    "\n",
    "    if letra_resultado.isupper():  # Verifica se é uma letra maiúscula\n",
    "        # Remove palavras que não têm a letra maiúscula na mesma posição\n",
    "        opcao = [\n",
    "            palavra for palavra in opcao \n",
    "            if palavra[i] == letra_resultado\n",
    "        ]\n",
    "\n",
    "#********************************************************************************************\n",
    "\n",
    "\n",
    "'''# Loop para verificar cada posição na palavra resultado\n",
    "erros = []\n",
    "for i in range(5):\n",
    "    if '*' == resultado[i]:\n",
    "        erros.append(chute[i])'''\n",
    "\n",
    "\n",
    "# Filtrando itens que estão em `erros` mas não estão em `duplos`\n",
    "apagar = [item for item in erros if item not in duplos]\n",
    "\n",
    "\n",
    "\n",
    "# Remove palavras que contêm qualquer letra da lista erros\n",
    "opcao = [\n",
    "    palavra for palavra in opcao \n",
    "    if not any(letra in palavra for letra in apagar)\n",
    "]\n",
    "\n",
    "# Exibe as palavras filtradas\n",
    "print(\"Erros: \",erros)\n",
    "print(\"Duplos: \",duplos)\n",
    "print(\"Apagar: \",apagar)\n",
    "print(\"Numero de chances: \",len(opcao))\n",
    "print(opcao) \n",
    "print(len(palavras_possiveis))"
   ]
  },
  {
   "cell_type": "code",
   "execution_count": null,
   "id": "1191f9f1-7f5a-44ff-b557-c39eec82c31b",
   "metadata": {},
   "outputs": [],
   "source": []
  },
  {
   "cell_type": "code",
   "execution_count": null,
   "id": "4c06721e-fabb-426c-bc22-0d885f756d4c",
   "metadata": {},
   "outputs": [],
   "source": []
  },
  {
   "cell_type": "code",
   "execution_count": null,
   "id": "3e6feed9-ab93-44b8-b38c-2e16b53c3542",
   "metadata": {},
   "outputs": [],
   "source": [
    "# Palavra a ser verificada\n",
    "palavra_a_verificar = \"CARTA\"\n",
    "\n",
    "# Verificando se a palavra está na lista\n",
    "if palavra_a_verificar in lista:\n",
    "    print(f\"A palavra '{palavra_a_verificar}' está na lista.\")\n",
    "else:\n",
    "    print(f\"A palavra '{palavra_a_verificar}' NÃO está na lista.\")"
   ]
  },
  {
   "cell_type": "code",
   "execution_count": null,
   "id": "09b04fa4-59c2-4114-aaef-e0075fab5368",
   "metadata": {},
   "outputs": [],
   "source": []
  },
  {
   "cell_type": "code",
   "execution_count": null,
   "id": "eb538d6e-69ec-4946-90fb-bc0296f4ed4e",
   "metadata": {},
   "outputs": [],
   "source": []
  }
 ],
 "metadata": {
  "kernelspec": {
   "display_name": "Python 3 (ipykernel)",
   "language": "python",
   "name": "python3"
  },
  "language_info": {
   "codemirror_mode": {
    "name": "ipython",
    "version": 3
   },
   "file_extension": ".py",
   "mimetype": "text/x-python",
   "name": "python",
   "nbconvert_exporter": "python",
   "pygments_lexer": "ipython3",
   "version": "3.10.12"
  }
 },
 "nbformat": 4,
 "nbformat_minor": 5
}
