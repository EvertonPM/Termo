{
 "cells": [
  {
   "cell_type": "code",
   "execution_count": 1,
   "id": "8b59cd9a-d94e-402e-bd56-c9294878e923",
   "metadata": {},
   "outputs": [],
   "source": [
    "!pip install -q selenium"
   ]
  },
  {
   "cell_type": "code",
   "execution_count": 2,
   "id": "c5c80200-5a63-4f2d-8e5e-3bc1422f5d5d",
   "metadata": {},
   "outputs": [],
   "source": [
    "!pip install -q webdriver_manager"
   ]
  },
  {
   "cell_type": "code",
   "execution_count": 3,
   "id": "c23729f4-ea78-4e94-8c52-942f1cb5d8b6",
   "metadata": {},
   "outputs": [],
   "source": [
    "from selenium import webdriver"
   ]
  },
  {
   "cell_type": "code",
   "execution_count": 4,
   "id": "f46b0a5c-356e-4e2f-9ca1-5a0f88b0402b",
   "metadata": {},
   "outputs": [],
   "source": [
    "from webdriver_manager.chrome import ChromeDriverManager\n",
    "from selenium.webdriver.chrome.service import Service"
   ]
  },
  {
   "cell_type": "code",
   "execution_count": 5,
   "id": "f66a8e3c-e65c-43fe-8bb6-30ece8d6ca0b",
   "metadata": {},
   "outputs": [],
   "source": [
    "servico = Service(ChromeDriverManager().install())"
   ]
  },
  {
   "cell_type": "code",
   "execution_count": 6,
   "id": "b8b6c8bd-93f5-43cc-b2dd-bcb00184fc3e",
   "metadata": {},
   "outputs": [],
   "source": [
    "navegador = webdriver.Chrome(service = servico)"
   ]
  },
  {
   "cell_type": "code",
   "execution_count": null,
   "id": "da63e8a0-7fbd-4d66-9118-a31089e59368",
   "metadata": {},
   "outputs": [],
   "source": [
    "navegador"
   ]
  },
  {
   "cell_type": "code",
   "execution_count": null,
   "id": "e1e546b0-9e66-499a-af74-44185796bc7a",
   "metadata": {},
   "outputs": [],
   "source": [
    "navegador.get(\"https://blp.hashtagtreinamentos.com/black-friday/nao-compre?origemurl=hashtag_yt_org_listaesperapython_8AMNaVt0z_M#pgavinsc-container\")"
   ]
  },
  {
   "cell_type": "code",
   "execution_count": null,
   "id": "a2a3afe9-3cba-4cd7-bd39-86388038754a",
   "metadata": {},
   "outputs": [],
   "source": [
    "navegador.find_element('xpath','/html/body/div[1]/div/div/div[5]/a').click()"
   ]
  },
  {
   "cell_type": "code",
   "execution_count": 35,
   "id": "5f7f9e73-ce4b-4ae3-974c-bb0ee422f80e",
   "metadata": {},
   "outputs": [],
   "source": [
    "from selenium import webdriver\n",
    "from webdriver_manager.chrome import ChromeDriverManager\n",
    "from selenium.webdriver.chrome.service import Service\n",
    "from selenium.webdriver.common.keys import Keys\n",
    "\n",
    "servico = Service(ChromeDriverManager().install())\n",
    "\n",
    "navegador = webdriver.Chrome(service = servico)\n",
    "\n",
    "navegador.get(\"https://term.ooo/4/\")\n",
    "\n",
    "navegador.find_element('xpath','//*[@id=\"help\"]/div[1]/span[2]').click()\n",
    "# navegador.find_element('xpath','//*[@id=\"hold\"]/wc-row[1]//div[4]').click()\n"
   ]
  },
  {
   "cell_type": "code",
   "execution_count": 40,
   "id": "6dfb6962-5ee8-4f54-b7bd-b733308a1f0c",
   "metadata": {},
   "outputs": [],
   "source": [
    "navegador.find_element('xpath','/html').send_keys(\"leite\")"
   ]
  },
  {
   "cell_type": "code",
   "execution_count": 45,
   "id": "51b97c8f-55db-4970-bd50-2d4920d3bb44",
   "metadata": {},
   "outputs": [],
   "source": [
    "navegador.find_element('xpath','/html').send_keys(Keys.BACKSPACE)"
   ]
  },
  {
   "cell_type": "code",
   "execution_count": 46,
   "id": "a124385c-a50d-4604-b732-4f81be88e690",
   "metadata": {},
   "outputs": [],
   "source": [
    "navegador.find_element('xpath','/html').send_keys(Keys.ENTER)"
   ]
  },
  {
   "cell_type": "code",
   "execution_count": 9,
   "id": "9e81ad5b-73f6-494d-9ff3-289d9b144aa5",
   "metadata": {},
   "outputs": [],
   "source": [
    "from selenium import webdriver\n",
    "from webdriver_manager.chrome import ChromeDriverManager\n",
    "from selenium.webdriver.chrome.service import Service\n",
    "\n",
    "servico = Service(ChromeDriverManager().install())\n",
    "\n",
    "navegador = webdriver.Chrome(service = servico)\n",
    "\n",
    "navegador.get(\"https://blp.hashtagtreinamentos.com/black-friday/nao-compre?origemurl=hashtag_yt_org_listaesperapython_8AMNaVt0z_M#pgavinsc-container\")\n",
    "\n",
    "navegador.find_element('xpath','/html/body/div[1]/div/div/div[5]/a').click()\n",
    "navegador.find_element('xpath','//*[@id=\"firstname\"]').send_keys(\"Everton\")\n",
    "navegador.find_element('xpath','//*[@id=\"email\"]').send_keys(\"Evertonteste@gmail.com\")\n",
    "navegador.find_element('xpath','//*[@id=\"phone\"]').send_keys(\"41 985857474\")\n",
    "navegador.find_element('xpath','//*[@id=\"_form_3483_submit\"]').click()"
   ]
  },
  {
   "cell_type": "code",
   "execution_count": null,
   "id": "59167329-a655-4c95-be7c-b322e9eda43d",
   "metadata": {},
   "outputs": [],
   "source": []
  }
 ],
 "metadata": {
  "kernelspec": {
   "display_name": "Python 3 (ipykernel)",
   "language": "python",
   "name": "python3"
  },
  "language_info": {
   "codemirror_mode": {
    "name": "ipython",
    "version": 3
   },
   "file_extension": ".py",
   "mimetype": "text/x-python",
   "name": "python",
   "nbconvert_exporter": "python",
   "pygments_lexer": "ipython3",
   "version": "3.10.12"
  }
 },
 "nbformat": 4,
 "nbformat_minor": 5
}
