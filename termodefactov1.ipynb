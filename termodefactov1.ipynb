{
 "cells": [
  {
   "cell_type": "code",
   "execution_count": 1,
   "id": "e9853d71-7ad0-4999-b649-bb56357dd58b",
   "metadata": {},
   "outputs": [],
   "source": [
    "import pandas as pd"
   ]
  },
  {
   "cell_type": "code",
   "execution_count": 2,
   "id": "92f7af82-220c-416d-907d-2f25a8902059",
   "metadata": {},
   "outputs": [],
   "source": [
    "df = pd.read_csv('termo.csv')"
   ]
  },
  {
   "cell_type": "code",
   "execution_count": null,
   "id": "21a9e462-bea7-4b6a-bb3f-f1614421c150",
   "metadata": {},
   "outputs": [],
   "source": [
    "*AN*O"
   ]
  },
  {
   "cell_type": "code",
   "execution_count": 10,
   "id": "2076ad02-e6b9-47a9-b9f9-51cec8e18dd3",
   "metadata": {},
   "outputs": [
    {
     "data": {
      "text/html": [
       "<div>\n",
       "<style scoped>\n",
       "    .dataframe tbody tr th:only-of-type {\n",
       "        vertical-align: middle;\n",
       "    }\n",
       "\n",
       "    .dataframe tbody tr th {\n",
       "        vertical-align: top;\n",
       "    }\n",
       "\n",
       "    .dataframe thead th {\n",
       "        text-align: right;\n",
       "    }\n",
       "</style>\n",
       "<table border=\"1\" class=\"dataframe\">\n",
       "  <thead>\n",
       "    <tr style=\"text-align: right;\">\n",
       "      <th></th>\n",
       "      <th>Unnamed: 0</th>\n",
       "      <th>TERMO</th>\n",
       "    </tr>\n",
       "  </thead>\n",
       "  <tbody>\n",
       "    <tr>\n",
       "      <th>207</th>\n",
       "      <td>207</td>\n",
       "      <td>EBANO</td>\n",
       "    </tr>\n",
       "    <tr>\n",
       "      <th>1239</th>\n",
       "      <td>1239</td>\n",
       "      <td>IBERO</td>\n",
       "    </tr>\n",
       "    <tr>\n",
       "      <th>1546</th>\n",
       "      <td>1546</td>\n",
       "      <td>ABEZO</td>\n",
       "    </tr>\n",
       "    <tr>\n",
       "      <th>1575</th>\n",
       "      <td>1575</td>\n",
       "      <td>ABAFO</td>\n",
       "    </tr>\n",
       "    <tr>\n",
       "      <th>1839</th>\n",
       "      <td>1839</td>\n",
       "      <td>OBSTO</td>\n",
       "    </tr>\n",
       "    <tr>\n",
       "      <th>1858</th>\n",
       "      <td>1858</td>\n",
       "      <td>OBVIO</td>\n",
       "    </tr>\n",
       "    <tr>\n",
       "      <th>1963</th>\n",
       "      <td>1963</td>\n",
       "      <td>ABETO</td>\n",
       "    </tr>\n",
       "    <tr>\n",
       "      <th>2204</th>\n",
       "      <td>2204</td>\n",
       "      <td>ABOIO</td>\n",
       "    </tr>\n",
       "    <tr>\n",
       "      <th>2271</th>\n",
       "      <td>2271</td>\n",
       "      <td>OBESO</td>\n",
       "    </tr>\n",
       "    <tr>\n",
       "      <th>2631</th>\n",
       "      <td>2631</td>\n",
       "      <td>ABUSO</td>\n",
       "    </tr>\n",
       "    <tr>\n",
       "      <th>2939</th>\n",
       "      <td>2939</td>\n",
       "      <td>ABONO</td>\n",
       "    </tr>\n",
       "    <tr>\n",
       "      <th>3005</th>\n",
       "      <td>3005</td>\n",
       "      <td>EBRIO</td>\n",
       "    </tr>\n",
       "    <tr>\n",
       "      <th>3081</th>\n",
       "      <td>3081</td>\n",
       "      <td>ABRAO</td>\n",
       "    </tr>\n",
       "    <tr>\n",
       "      <th>3392</th>\n",
       "      <td>3392</td>\n",
       "      <td>ABANO</td>\n",
       "    </tr>\n",
       "    <tr>\n",
       "      <th>4154</th>\n",
       "      <td>4154</td>\n",
       "      <td>ABOBO</td>\n",
       "    </tr>\n",
       "    <tr>\n",
       "      <th>4459</th>\n",
       "      <td>4459</td>\n",
       "      <td>ABALO</td>\n",
       "    </tr>\n",
       "    <tr>\n",
       "      <th>4612</th>\n",
       "      <td>4612</td>\n",
       "      <td>ABAXO</td>\n",
       "    </tr>\n",
       "    <tr>\n",
       "      <th>4719</th>\n",
       "      <td>4719</td>\n",
       "      <td>OBITO</td>\n",
       "    </tr>\n",
       "    <tr>\n",
       "      <th>5122</th>\n",
       "      <td>5122</td>\n",
       "      <td>ABACO</td>\n",
       "    </tr>\n",
       "    <tr>\n",
       "      <th>5503</th>\n",
       "      <td>5503</td>\n",
       "      <td>ABOCO</td>\n",
       "    </tr>\n",
       "    <tr>\n",
       "      <th>5696</th>\n",
       "      <td>5696</td>\n",
       "      <td>ABECO</td>\n",
       "    </tr>\n",
       "    <tr>\n",
       "      <th>6211</th>\n",
       "      <td>6211</td>\n",
       "      <td>OBOLO</td>\n",
       "    </tr>\n",
       "  </tbody>\n",
       "</table>\n",
       "</div>"
      ],
      "text/plain": [
       "      Unnamed: 0  TERMO\n",
       "207          207  EBANO\n",
       "1239        1239  IBERO\n",
       "1546        1546  ABEZO\n",
       "1575        1575  ABAFO\n",
       "1839        1839  OBSTO\n",
       "1858        1858  OBVIO\n",
       "1963        1963  ABETO\n",
       "2204        2204  ABOIO\n",
       "2271        2271  OBESO\n",
       "2631        2631  ABUSO\n",
       "2939        2939  ABONO\n",
       "3005        3005  EBRIO\n",
       "3081        3081  ABRAO\n",
       "3392        3392  ABANO\n",
       "4154        4154  ABOBO\n",
       "4459        4459  ABALO\n",
       "4612        4612  ABAXO\n",
       "4719        4719  OBITO\n",
       "5122        5122  ABACO\n",
       "5503        5503  ABOCO\n",
       "5696        5696  ABECO\n",
       "6211        6211  OBOLO"
      ]
     },
     "execution_count": 10,
     "metadata": {},
     "output_type": "execute_result"
    }
   ],
   "source": [
    "df[df['TERMO'].str.contains('.B..O', regex=True)]"
   ]
  },
  {
   "cell_type": "code",
   "execution_count": 3,
   "id": "50a272a5-bfea-4666-9e5e-d1bb0bfb31f1",
   "metadata": {},
   "outputs": [],
   "source": [
    "lista = df[\"TERMO\"].tolist()"
   ]
  },
  {
   "cell_type": "code",
   "execution_count": 4,
   "id": "ec88acff-4e81-4da3-9f9f-d7c6f8694af5",
   "metadata": {},
   "outputs": [
    {
     "data": {
      "text/plain": [
       "6498"
      ]
     },
     "execution_count": 4,
     "metadata": {},
     "output_type": "execute_result"
    }
   ],
   "source": [
    "len(lista)"
   ]
  },
  {
   "cell_type": "code",
   "execution_count": null,
   "id": "f70144e9-eb84-4455-9c1d-7ebdd6c6f3fa",
   "metadata": {},
   "outputs": [],
   "source": [
    "chute = \"BANHO\""
   ]
  },
  {
   "cell_type": "code",
   "execution_count": null,
   "id": "3cfedbb3-a20b-4327-900f-6d75c026a8c2",
   "metadata": {},
   "outputs": [],
   "source": [
    "resultado = \"*AN*O\""
   ]
  },
  {
   "cell_type": "markdown",
   "id": "ee85e078-21b7-4a27-a611-ec91dd46d5f5",
   "metadata": {},
   "source": [
    "## MINUSCULAS"
   ]
  },
  {
   "cell_type": "code",
   "execution_count": null,
   "id": "8dafeb09-d8c1-414e-9b4a-2bcb603ed391",
   "metadata": {},
   "outputs": [],
   "source": [
    "#palavras_possiveis = lista.copy()  # Começamos com a lista inicial\n",
    "\n",
    "# Loop para cada posição e letra no resultado\n",
    "for i in range(5):\n",
    "    letra_resultado = resultado[i]\n",
    "\n",
    "    if letra_resultado.islower():  # Verifica se é uma letra minúscula\n",
    "        letra_maiuscula = letra_resultado.upper()  # Converte para maiúscula\n",
    "        \n",
    "        # Filtra as palavras para garantir que contêm a letra correspondente em maiúscula\n",
    "        palavras_possiveis = [\n",
    "            palavra for palavra in palavras_possiveis \n",
    "            if letra_maiuscula in palavra and palavra[i] != letra_maiuscula\n",
    "        ]\n",
    "\n",
    "        # Filtra para garantir que a letra não está nas posições das letras minúsculas ou em letras maiúsculas\n",
    "        palavras_possiveis = [\n",
    "            palavra for palavra in palavras_possiveis \n",
    "            if all(palavra[j] != letra_maiuscula for j in range(5) if resultado[j].isupper())\n",
    "        ]\n",
    "\n",
    "# Exibe as palavras filtradas\n",
    "#palavras_possiveis  # Deve mostrar as palavras que possuem a letra 'O' em qualquer posição exceto na segunda\n"
   ]
  },
  {
   "cell_type": "code",
   "execution_count": null,
   "id": "add96a74-25e6-414b-8a2a-cc02273c3b22",
   "metadata": {},
   "outputs": [],
   "source": [
    "len(palavras_possiveis)"
   ]
  },
  {
   "cell_type": "markdown",
   "id": "6e58dd3c-1db6-476e-acae-239e0bc47bcb",
   "metadata": {},
   "source": [
    "# MAIUSCULAS"
   ]
  },
  {
   "cell_type": "code",
   "execution_count": null,
   "id": "0ff8b3a1-998d-4f3e-96c5-cb06d75b08d7",
   "metadata": {},
   "outputs": [],
   "source": [
    "\n",
    "# Filtro onde há letras maiúsculas no resultado\n",
    "for i in range(5):\n",
    "    letra_resultado = resultado[i]\n",
    "\n",
    "    if letra_resultado.isupper():  # Verifica se é uma letra maiúscula\n",
    "        # Remove palavras que não têm a letra maiúscula na mesma posição\n",
    "        palavras_possiveis = [\n",
    "            palavra for palavra in palavras_possiveis \n",
    "            if palavra[i] == letra_resultado\n",
    "        ]\n",
    "\n",
    "# Exibe as palavras filtradas\n",
    "palavras_possiveis  # Deve mostrar as palavras que têm as letras maiúsculas na mesma posição\n"
   ]
  },
  {
   "cell_type": "code",
   "execution_count": null,
   "id": "4c5fa0ad-d9e1-4476-8e11-6da836dc3387",
   "metadata": {},
   "outputs": [],
   "source": [
    "len(palavras_possiveis)"
   ]
  },
  {
   "cell_type": "code",
   "execution_count": null,
   "id": "3e6feed9-ab93-44b8-b38c-2e16b53c3542",
   "metadata": {},
   "outputs": [],
   "source": [
    "'''# Palavra a ser verificada\n",
    "palavra_a_verificar = \"PRAIA\"\n",
    "\n",
    "# Verificando se a palavra está na lista\n",
    "if palavra_a_verificar in lista:\n",
    "    print(f\"A palavra '{palavra_a_verificar}' está na lista.\")\n",
    "else:\n",
    "    print(f\"A palavra '{palavra_a_verificar}' NÃO está na lista.\")'''"
   ]
  },
  {
   "cell_type": "markdown",
   "id": "2a9955ac-d3d2-4c75-936a-2bf40dc935e0",
   "metadata": {},
   "source": [
    "# LETRAS EXCLUIDAS"
   ]
  },
  {
   "cell_type": "code",
   "execution_count": null,
   "id": "73512dae-c1a5-4195-9fe1-b4eb639dbf1f",
   "metadata": {},
   "outputs": [],
   "source": [
    "# Loop para verificar cada posição na palavra resultado\n",
    "erros = ['S','C']\n",
    "for i in range(5):\n",
    "    if '*' == resultado[i]:\n",
    "        erros.append(chute[i])\n",
    "erros"
   ]
  },
  {
   "cell_type": "code",
   "execution_count": null,
   "id": "f7d6f586-ccec-4b65-9e84-b23f7abf4bf2",
   "metadata": {
    "scrolled": true
   },
   "outputs": [],
   "source": [
    "# Remove palavras que contêm qualquer letra da lista erros\n",
    "palavras_possiveis = [\n",
    "    palavra for palavra in palavras_possiveis \n",
    "    if not any(letra in palavra for letra in erros)\n",
    "]\n",
    "\n",
    "# Exibe as palavras filtradas\n",
    "palavras_possiveis  # Mostra as palavras que não contêm as letras na lista erros"
   ]
  },
  {
   "cell_type": "code",
   "execution_count": null,
   "id": "f3bf5184-e174-4f4a-9c6d-ad2dce8393df",
   "metadata": {},
   "outputs": [],
   "source": [
    "len(palavras_possiveis)"
   ]
  },
  {
   "cell_type": "code",
   "execution_count": null,
   "id": "8256058b-f735-41ac-8ab3-bddd4c437014",
   "metadata": {},
   "outputs": [],
   "source": []
  }
 ],
 "metadata": {
  "kernelspec": {
   "display_name": "Python 3 (ipykernel)",
   "language": "python",
   "name": "python3"
  },
  "language_info": {
   "codemirror_mode": {
    "name": "ipython",
    "version": 3
   },
   "file_extension": ".py",
   "mimetype": "text/x-python",
   "name": "python",
   "nbconvert_exporter": "python",
   "pygments_lexer": "ipython3",
   "version": "3.10.12"
  }
 },
 "nbformat": 4,
 "nbformat_minor": 5
}
